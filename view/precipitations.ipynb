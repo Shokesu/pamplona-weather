{
 "cells": [
  {
   "cell_type": "heading",
   "metadata": {
    "collapsed": true
   },
   "level": 1,
   "source": [
    "Este es otro ejemplo de visualización de datos meteorológicos de Pamplona.\n",
    "En este caso se muestra en una gráfica, el porcentaje de dias de lluvia por cada año (entre 2012 y 2016)"
   ]
  },
  {
   "cell_type": "heading",
   "metadata": {},
   "level": 1,
   "source": [
    "En el siguiente trozo de código, consultamos que días fueron lluviosos,\n",
    "y los agregamos por año."
   ]
  },
  {
   "cell_type": "code",
   "execution_count": 28,
   "metadata": {
    "collapsed": true
   },
   "outputs": [],
   "source": [
    "from pamplona_weather import get_pamplona_weather_history\n",
    "from datetime import datetime\n",
    "\n",
    "years = list(range(2012, 2016+1))\n",
    "num_rainy_days = []\n",
    "num_total_days = []\n",
    "\n",
    "for year in years:\n",
    "    days_in_history = set()\n",
    "    weather_history = get_pamplona_weather_history(\n",
    "        start = datetime(day = 1, month = 1, year = year),\n",
    "        end = datetime(day = 31, month = 12, year = year))\n",
    "    \n",
    "    rain_history = [weather for weather in weather_history if\n",
    "                    weather.get_rain_volume() > 0]\n",
    "    \n",
    "    rainy_days = set([weather.get_timestamp().date()\n",
    "                      for weather in rain_history])\n",
    "    \n",
    "    num_rainy_days.append(len(rainy_days))\n",
    "    num_total_days.append(365 if (year % 4) > 0 else 366)\n",
    "\n",
    "rainy_days_percentage = [(rainy_days_on_year / num_days_on_year) * 100\n",
    "                         for rainy_days_on_year, num_days_on_year in\n",
    "                         zip(num_rainy_days, num_total_days)]"
   ]
  },
  {
   "cell_type": "heading",
   "metadata": {},
   "level": 1,
   "source": [
    "Ahora mostramos un gráfico de barras para visualizar la información"
   ]
  },
  {
   "cell_type": "code",
   "execution_count": 33,
   "metadata": {},
   "outputs": [
    {
     "data": {
      "image/png": "[encoded data removed]",
      "text/plain": [
       "<matplotlib.figure.Figure at 0x7f9e102cb198>"
      ]
     },
     "metadata": {},
     "output_type": "display_data"
    }
   ],
   "source": [
    "%matplotlib inline\n",
    "\n",
    "import pandas as pd\n",
    "import matplotlib.pyplot as plt\n",
    "import matplotlib.ticker as ticker\n",
    "\n",
    "\n",
    "frame = pd.DataFrame()\n",
    "frame['rainy days'] = num_rainy_days\n",
    "\n",
    "fig, ax = plt.subplots(figsize = (8, 5))\n",
    "ax.tick_params(axis='x', labelsize=15)\n",
    "ax.tick_params(axis='y', labelsize=10)\n",
    "ax.set_xlabel('Year', fontsize=15)\n",
    "ax.set_ylabel('Number of rainy days' , fontsize=15)\n",
    "ax.set_title('Number of rainy days per year (2012-2016)', fontsize=15, fontweight='bold')\n",
    "plot = frame.plot.bar(ax = ax, color = 'blue')\n",
    "plot.xaxis.set_major_formatter(ticker.FixedFormatter(years))"
   ]
  },
  {
   "cell_type": "code",
   "execution_count": 34,
   "metadata": {},
   "outputs": [],
   "source": []
  },
  {
   "cell_type": "code",
   "execution_count": null,
   "metadata": {},
   "outputs": [],
   "source": []
  }
 ],
 "metadata": {
  "kernelspec": {
   "display_name": "Python 2",
   "language": "python",
   "name": "python2"
  },
  "language_info": {
   "codemirror_mode": {
    "name": "ipython",
    "version": 2
   },
   "file_extension": ".py",
   "mimetype": "text/x-python",
   "name": "python",
   "nbconvert_exporter": "python",
   "pygments_lexer": "ipython2",
   "version": "2.7.6"
  }
 },
 "nbformat": 4,
 "nbformat_minor": 0
}
